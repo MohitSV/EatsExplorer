{
 "cells": [
  {
   "cell_type": "code",
   "execution_count": 2,
   "metadata": {},
   "outputs": [],
   "source": [
    "import pandas as pd\n",
    "\n",
    "# Read the CSV file into a DataFrame\n",
    "df = pd.read_csv('menudata.csv')\n",
    "\n",
    "# Display the first few rows of the DataFrame to verify the import\n",
    "# df.head()"
   ]
  },
  {
   "cell_type": "code",
   "execution_count": null,
   "metadata": {},
   "outputs": [],
   "source": [
    "unique_restaurants = df['categories'].unique()\n",
    "unique_restaurants"
   ]
  },
  {
   "cell_type": "code",
   "execution_count": null,
   "metadata": {},
   "outputs": [],
   "source": [
    "restaurant_names = df['restaurant_name'] \n",
    "count_by_character = restaurant_names.str[0].value_counts()\n",
    "count_by_character"
   ]
  },
  {
   "cell_type": "code",
   "execution_count": 13,
   "metadata": {},
   "outputs": [
    {
     "name": "stdout",
     "output_type": "stream",
     "text": [
      "1001 Guerrero St, 1007 1/2 Valencia St, 1050 Valencia St, 1136 Valencia St, 1142 Valencia St, 1152 Valencia St, 1199 Valencia St, 1500 S Van Ness Ave, 1525 Cortland Ave, 1551 Dolores St, 1600 Guerrero St, 1890 Bryant St, 2011 Mission St, 2020 Mission St, 2099 Folsom St, 2128 Folsom St, 2128 Mission St, 2140 Mission St, 2154 Mission St, 2164 Mission St\n",
      "2170 Bryant St, 2170 Mission St, 2193 Mission St, 2200 Bryant St, 2224 Mission St, 2240 Mission St, 2288 Mission St, 2341 C Folsom St, 2401 Harrison St, 2434 Mission St, 2471 Mission St, 2475 Mission St, 2491 Mission St, 2500 Bryant St, 2500 Folsom St, 2501 Mariposa St, 2516 Mission St, 2534 Mission St, 2537 24th St, 2598 Harrison St\n",
      "2700 24th St, 2708 24th St, 2732 24th St, 2736 20th St, 2763 Mission St, 2798 Mission St, 2809 24th St, 2817 24th St, 2832 Mission St, 2838 24th St, 2839 Mission St, 2845 Mission St, 2850 21st St, 2878 24th St, 2884 24th St, 2889 Mission St, 2904 24th St, 2916 24th St, 2948 Folsom St, 2962 24th St\n",
      "2966 Mission St, 2989 24th St, 2990 24th St, 300 Precita Ave, 3000 20th St, 3010 20th St, 3033 24th St, 3064 24th St, 3066 24th St, 3111 24th St, 3115 22nd St, 3153 17th St, 3166 24th St, 3176 17th St, 3214 Folsom St, 3216 Mission St, 3218 Mission St, 3221 Mission St, 3224 1/2 22nd St, 3230 Mission St\n",
      "3275 22nd St, 3282 Mission St, 3286 Mission St, 3287 21st St, 3295 22nd St, 3296 22nd St, 3303 Mission St, 3319 Mission St, 3321 20th St, 3331 24th St, 3332 18th St, 3338 24th St, 3378 18th St, 3388 19th St, 3416 19th St, 3435 Mission St, 3471 Mission St, 3481 18th St, 3486 Mission St, 3560 18th St\n",
      "3565 20th St, 3601 26th St, 3771 Mission St, 410 Cortland Ave, 419 Cortland Ave, 439 Cortland Ave, 499 Dolores St, 500 Precita Ave, 508 Valencia St, 525 Cortland Ave, 525 Valencia St, 546 Valencia St, 561 Valencia St, 564 S Van Ness Ave, 577 Valencia St, 581 Valencia St, 59 30th St, 590 Valencia St, 598 Guerrero St, 599 S Van Ness Ave\n",
      "600 Guerrero St, 600 York St, 613 York St, 615 Cortland Ave, 65 29th St, 665 Valencia St, 680 Valencia St, 694 Valencia St, 699 Valencia St, 701 Valencia St, 737 Cortland Ave, 741 Valencia St, 746 Valencia St, 753 Alabama St, 762 Valencia St, 795 Valencia St, 799 Valencia St, 800 Cortland Ave, 801 Valencia St, 803 Cortland Ave\n",
      "807 Valencia St, 870 Valencia St, 901 S Van Ness Ave, 903 Cortland Ave, 919 Cortland Ave, 990 Valencia St, 998 Guerrero St\n"
     ]
    }
   ],
   "source": [
    "unique_sorted = sorted(df['address1'].dropna().unique())\n",
    "chunks = [unique_sorted[i:i + 20] for i in range(0, len(unique_sorted), 20)]\n",
    "\n",
    "# Convert each chunk to strings before joining\n",
    "chunks_as_strings = [', '.join(map(str, chunk)) for chunk in chunks]\n",
    "\n",
    "# Print each chunk on a new line\n",
    "for chunk in chunks_as_strings:\n",
    "    print(chunk)"
   ]
  },
  {
   "cell_type": "code",
   "execution_count": 14,
   "metadata": {},
   "outputs": [
    {
     "name": "stdout",
     "output_type": "stream",
     "text": [
      "3224 1/2 22nd St, 1007 1/2 Valencia St, 3176 17th St, 3153 17th St, 3332 18th St, 3560 18th St, 3378 18th St, 3481 18th St, 3388 19th St, 3416 19th St, 3565 20th St, 3321 20th St, 2736 20th St, 3000 20th St, 3010 20th St, 2850 21st St, 3287 21st St, 3296 22nd St, 3275 22nd St, 3115 22nd St\n",
      "3295 22nd St, 2732 24th St, 3064 24th St, 2989 24th St, 3338 24th St, 3166 24th St, 2708 24th St, 2904 24th St, 3331 24th St, 3111 24th St, 2990 24th St, 2537 24th St, 2809 24th St, 2916 24th St, 2884 24th St, 2962 24th St, 2838 24th St, 2878 24th St, 2817 24th St, 3066 24th St\n",
      "3033 24th St, 2700 24th St, 3601 26th St, 65 29th St, 59 30th St, 753 Alabama St, 1890 Bryant St, 2200 Bryant St, 2170 Bryant St, 2500 Bryant St, 2341 C Folsom St, 919 Cortland Ave, 410 Cortland Ave, 1525 Cortland Ave, 800 Cortland Ave, 439 Cortland Ave, 615 Cortland Ave, 903 Cortland Ave, 803 Cortland Ave, 737 Cortland Ave\n",
      "525 Cortland Ave, 419 Cortland Ave, 499 Dolores St, 1551 Dolores St, 2500 Folsom St, 3214 Folsom St, 2948 Folsom St, 2099 Folsom St, 2128 Folsom St, 1600 Guerrero St, 598 Guerrero St, 1001 Guerrero St, 600 Guerrero St, 998 Guerrero St, 2401 Harrison St, 2598 Harrison St, 2501 Mariposa St, 3286 Mission St, 2020 Mission St, 3216 Mission St\n",
      "3218 Mission St, 2475 Mission St, 2763 Mission St, 3771 Mission St, 2839 Mission St, 2798 Mission St, 3471 Mission St, 3319 Mission St, 3486 Mission St, 2154 Mission St, 3435 Mission St, 2491 Mission St, 2516 Mission St, 3230 Mission St, 2534 Mission St, 3282 Mission St, 3303 Mission St, 2011 Mission St, 2193 Mission St, 2128 Mission St\n",
      "2889 Mission St, 2471 Mission St, 2845 Mission St, 2434 Mission St, 2966 Mission St, 2170 Mission St, 2224 Mission St, 2832 Mission St, 3221 Mission St, 2288 Mission St, 2140 Mission St, 2240 Mission St, 2164 Mission St, 300 Precita Ave, 500 Precita Ave, 599 S Van Ness Ave, 564 S Van Ness Ave, 901 S Van Ness Ave, 1500 S Van Ness Ave, 1136 Valencia St\n",
      "1050 Valencia St, 590 Valencia St, 1199 Valencia St, 762 Valencia St, 807 Valencia St, 746 Valencia St, 1142 Valencia St, 694 Valencia St, 870 Valencia St, 795 Valencia St, 508 Valencia St, 581 Valencia St, 680 Valencia St, 546 Valencia St, 525 Valencia St, 990 Valencia St, 561 Valencia St, 741 Valencia St, 665 Valencia St, 699 Valencia St\n",
      "577 Valencia St, 1152 Valencia St, 801 Valencia St, 701 Valencia St, 799 Valencia St, 613 York St, 600 York St\n"
     ]
    }
   ],
   "source": [
    "# Extract street names and create a mapping\n",
    "addresses = df['address1'].dropna().unique()\n",
    "# Create tuples of (street_name, full_address) for sorting\n",
    "address_pairs = [(addr.split(' ', 1)[1], addr) for addr in addresses]\n",
    "# Sort by street name\n",
    "sorted_pairs = sorted(address_pairs, key=lambda x: x[0])\n",
    "# Get back just the full addresses, now sorted by street\n",
    "unique_sorted = [pair[1] for pair in sorted_pairs]\n",
    "\n",
    "# Group them so addresses with same street stay together\n",
    "chunks = [unique_sorted[i:i + 20] for i in range(0, len(unique_sorted), 20)]\n",
    "\n",
    "# Convert each chunk to strings\n",
    "chunks_as_strings = [', '.join(chunk) for chunk in chunks]\n",
    "\n",
    "# Print each chunk on a new line\n",
    "for chunk in chunks_as_strings:\n",
    "    print(chunk)"
   ]
  }
 ],
 "metadata": {
  "kernelspec": {
   "display_name": "Python 3",
   "language": "python",
   "name": "python3"
  },
  "language_info": {
   "codemirror_mode": {
    "name": "ipython",
    "version": 3
   },
   "file_extension": ".py",
   "mimetype": "text/x-python",
   "name": "python",
   "nbconvert_exporter": "python",
   "pygments_lexer": "ipython3",
   "version": "3.11.11 (main, Dec  3 2024, 17:20:40) [Clang 16.0.0 (clang-1600.0.26.4)]"
  },
  "vscode": {
   "interpreter": {
    "hash": "1a1af0ee75eeea9e2e1ee996c87e7a2b11a0bebd85af04bb136d915cefc0abce"
   }
  }
 },
 "nbformat": 4,
 "nbformat_minor": 2
}
